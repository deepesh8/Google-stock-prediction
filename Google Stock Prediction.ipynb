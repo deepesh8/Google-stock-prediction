{
 "cells": [
  {
   "cell_type": "markdown",
   "id": "8d754a98",
   "metadata": {},
   "source": [
    "# DEEPESH ADWANI   "
   ]
  },
  {
   "cell_type": "markdown",
   "id": "9b1532e7",
   "metadata": {},
   "source": [
    "# IMPLEMENTING RECURRENT NEURAL NETWORKS FOR TIME SERIES FORECASTING AND STOCK MARK PREDICTION"
   ]
  },
  {
   "cell_type": "code",
   "execution_count": 1,
   "id": "0c1ddad7",
   "metadata": {},
   "outputs": [
    {
     "name": "stderr",
     "output_type": "stream",
     "text": [
      "C:\\Users\\DELL\\anaconda3\\lib\\site-packages\\scipy\\__init__.py:146: UserWarning: A NumPy version >=1.16.5 and <1.23.0 is required for this version of SciPy (detected version 1.24.3\n",
      "  warnings.warn(f\"A NumPy version >={np_minversion} and <{np_maxversion}\"\n"
     ]
    }
   ],
   "source": [
    "from keras.layers import Dense,Flatten,SimpleRNN,Dropout\n",
    "from keras.models import Sequential\n",
    "import pandas as pd\n",
    "import tensorflow as tf\n",
    "import numpy as np\n",
    "from sklearn.model_selection import train_test_split\n",
    "import matplotlib.pyplot as plt\n",
    "from sklearn.preprocessing import MinMaxScaler,StandardScaler\n",
    "from sklearn.metrics import mean_squared_error"
   ]
  },
  {
   "cell_type": "code",
   "execution_count": 2,
   "id": "fd1c627c",
   "metadata": {},
   "outputs": [
    {
     "data": {
      "text/html": [
       "<div>\n",
       "<style scoped>\n",
       "    .dataframe tbody tr th:only-of-type {\n",
       "        vertical-align: middle;\n",
       "    }\n",
       "\n",
       "    .dataframe tbody tr th {\n",
       "        vertical-align: top;\n",
       "    }\n",
       "\n",
       "    .dataframe thead th {\n",
       "        text-align: right;\n",
       "    }\n",
       "</style>\n",
       "<table border=\"1\" class=\"dataframe\">\n",
       "  <thead>\n",
       "    <tr style=\"text-align: right;\">\n",
       "      <th></th>\n",
       "      <th>symbol</th>\n",
       "      <th>date</th>\n",
       "      <th>close</th>\n",
       "      <th>high</th>\n",
       "      <th>low</th>\n",
       "      <th>open</th>\n",
       "      <th>volume</th>\n",
       "      <th>adjClose</th>\n",
       "      <th>adjHigh</th>\n",
       "      <th>adjLow</th>\n",
       "      <th>adjOpen</th>\n",
       "      <th>adjVolume</th>\n",
       "      <th>divCash</th>\n",
       "      <th>splitFactor</th>\n",
       "    </tr>\n",
       "  </thead>\n",
       "  <tbody>\n",
       "    <tr>\n",
       "      <th>0</th>\n",
       "      <td>GOOG</td>\n",
       "      <td>2016-06-14 00:00:00+00:00</td>\n",
       "      <td>718.27</td>\n",
       "      <td>722.470</td>\n",
       "      <td>713.1200</td>\n",
       "      <td>716.48</td>\n",
       "      <td>1306065</td>\n",
       "      <td>718.27</td>\n",
       "      <td>722.470</td>\n",
       "      <td>713.1200</td>\n",
       "      <td>716.48</td>\n",
       "      <td>1306065</td>\n",
       "      <td>0.0</td>\n",
       "      <td>1.0</td>\n",
       "    </tr>\n",
       "    <tr>\n",
       "      <th>1</th>\n",
       "      <td>GOOG</td>\n",
       "      <td>2016-06-15 00:00:00+00:00</td>\n",
       "      <td>718.92</td>\n",
       "      <td>722.980</td>\n",
       "      <td>717.3100</td>\n",
       "      <td>719.00</td>\n",
       "      <td>1214517</td>\n",
       "      <td>718.92</td>\n",
       "      <td>722.980</td>\n",
       "      <td>717.3100</td>\n",
       "      <td>719.00</td>\n",
       "      <td>1214517</td>\n",
       "      <td>0.0</td>\n",
       "      <td>1.0</td>\n",
       "    </tr>\n",
       "    <tr>\n",
       "      <th>2</th>\n",
       "      <td>GOOG</td>\n",
       "      <td>2016-06-16 00:00:00+00:00</td>\n",
       "      <td>710.36</td>\n",
       "      <td>716.650</td>\n",
       "      <td>703.2600</td>\n",
       "      <td>714.91</td>\n",
       "      <td>1982471</td>\n",
       "      <td>710.36</td>\n",
       "      <td>716.650</td>\n",
       "      <td>703.2600</td>\n",
       "      <td>714.91</td>\n",
       "      <td>1982471</td>\n",
       "      <td>0.0</td>\n",
       "      <td>1.0</td>\n",
       "    </tr>\n",
       "    <tr>\n",
       "      <th>3</th>\n",
       "      <td>GOOG</td>\n",
       "      <td>2016-06-17 00:00:00+00:00</td>\n",
       "      <td>691.72</td>\n",
       "      <td>708.820</td>\n",
       "      <td>688.4515</td>\n",
       "      <td>708.65</td>\n",
       "      <td>3402357</td>\n",
       "      <td>691.72</td>\n",
       "      <td>708.820</td>\n",
       "      <td>688.4515</td>\n",
       "      <td>708.65</td>\n",
       "      <td>3402357</td>\n",
       "      <td>0.0</td>\n",
       "      <td>1.0</td>\n",
       "    </tr>\n",
       "    <tr>\n",
       "      <th>4</th>\n",
       "      <td>GOOG</td>\n",
       "      <td>2016-06-20 00:00:00+00:00</td>\n",
       "      <td>693.71</td>\n",
       "      <td>702.480</td>\n",
       "      <td>693.4100</td>\n",
       "      <td>698.77</td>\n",
       "      <td>2082538</td>\n",
       "      <td>693.71</td>\n",
       "      <td>702.480</td>\n",
       "      <td>693.4100</td>\n",
       "      <td>698.77</td>\n",
       "      <td>2082538</td>\n",
       "      <td>0.0</td>\n",
       "      <td>1.0</td>\n",
       "    </tr>\n",
       "    <tr>\n",
       "      <th>...</th>\n",
       "      <td>...</td>\n",
       "      <td>...</td>\n",
       "      <td>...</td>\n",
       "      <td>...</td>\n",
       "      <td>...</td>\n",
       "      <td>...</td>\n",
       "      <td>...</td>\n",
       "      <td>...</td>\n",
       "      <td>...</td>\n",
       "      <td>...</td>\n",
       "      <td>...</td>\n",
       "      <td>...</td>\n",
       "      <td>...</td>\n",
       "      <td>...</td>\n",
       "    </tr>\n",
       "    <tr>\n",
       "      <th>1253</th>\n",
       "      <td>GOOG</td>\n",
       "      <td>2021-06-07 00:00:00+00:00</td>\n",
       "      <td>2466.09</td>\n",
       "      <td>2468.000</td>\n",
       "      <td>2441.0725</td>\n",
       "      <td>2451.32</td>\n",
       "      <td>1192453</td>\n",
       "      <td>2466.09</td>\n",
       "      <td>2468.000</td>\n",
       "      <td>2441.0725</td>\n",
       "      <td>2451.32</td>\n",
       "      <td>1192453</td>\n",
       "      <td>0.0</td>\n",
       "      <td>1.0</td>\n",
       "    </tr>\n",
       "    <tr>\n",
       "      <th>1254</th>\n",
       "      <td>GOOG</td>\n",
       "      <td>2021-06-08 00:00:00+00:00</td>\n",
       "      <td>2482.85</td>\n",
       "      <td>2494.495</td>\n",
       "      <td>2468.2400</td>\n",
       "      <td>2479.90</td>\n",
       "      <td>1253253</td>\n",
       "      <td>2482.85</td>\n",
       "      <td>2494.495</td>\n",
       "      <td>2468.2400</td>\n",
       "      <td>2479.90</td>\n",
       "      <td>1253253</td>\n",
       "      <td>0.0</td>\n",
       "      <td>1.0</td>\n",
       "    </tr>\n",
       "    <tr>\n",
       "      <th>1255</th>\n",
       "      <td>GOOG</td>\n",
       "      <td>2021-06-09 00:00:00+00:00</td>\n",
       "      <td>2491.40</td>\n",
       "      <td>2505.000</td>\n",
       "      <td>2487.3300</td>\n",
       "      <td>2499.50</td>\n",
       "      <td>1006337</td>\n",
       "      <td>2491.40</td>\n",
       "      <td>2505.000</td>\n",
       "      <td>2487.3300</td>\n",
       "      <td>2499.50</td>\n",
       "      <td>1006337</td>\n",
       "      <td>0.0</td>\n",
       "      <td>1.0</td>\n",
       "    </tr>\n",
       "    <tr>\n",
       "      <th>1256</th>\n",
       "      <td>GOOG</td>\n",
       "      <td>2021-06-10 00:00:00+00:00</td>\n",
       "      <td>2521.60</td>\n",
       "      <td>2523.260</td>\n",
       "      <td>2494.0000</td>\n",
       "      <td>2494.01</td>\n",
       "      <td>1561733</td>\n",
       "      <td>2521.60</td>\n",
       "      <td>2523.260</td>\n",
       "      <td>2494.0000</td>\n",
       "      <td>2494.01</td>\n",
       "      <td>1561733</td>\n",
       "      <td>0.0</td>\n",
       "      <td>1.0</td>\n",
       "    </tr>\n",
       "    <tr>\n",
       "      <th>1257</th>\n",
       "      <td>GOOG</td>\n",
       "      <td>2021-06-11 00:00:00+00:00</td>\n",
       "      <td>2513.93</td>\n",
       "      <td>2526.990</td>\n",
       "      <td>2498.2900</td>\n",
       "      <td>2524.92</td>\n",
       "      <td>1262309</td>\n",
       "      <td>2513.93</td>\n",
       "      <td>2526.990</td>\n",
       "      <td>2498.2900</td>\n",
       "      <td>2524.92</td>\n",
       "      <td>1262309</td>\n",
       "      <td>0.0</td>\n",
       "      <td>1.0</td>\n",
       "    </tr>\n",
       "  </tbody>\n",
       "</table>\n",
       "<p>1258 rows × 14 columns</p>\n",
       "</div>"
      ],
      "text/plain": [
       "     symbol                       date    close      high        low     open  \\\n",
       "0      GOOG  2016-06-14 00:00:00+00:00   718.27   722.470   713.1200   716.48   \n",
       "1      GOOG  2016-06-15 00:00:00+00:00   718.92   722.980   717.3100   719.00   \n",
       "2      GOOG  2016-06-16 00:00:00+00:00   710.36   716.650   703.2600   714.91   \n",
       "3      GOOG  2016-06-17 00:00:00+00:00   691.72   708.820   688.4515   708.65   \n",
       "4      GOOG  2016-06-20 00:00:00+00:00   693.71   702.480   693.4100   698.77   \n",
       "...     ...                        ...      ...       ...        ...      ...   \n",
       "1253   GOOG  2021-06-07 00:00:00+00:00  2466.09  2468.000  2441.0725  2451.32   \n",
       "1254   GOOG  2021-06-08 00:00:00+00:00  2482.85  2494.495  2468.2400  2479.90   \n",
       "1255   GOOG  2021-06-09 00:00:00+00:00  2491.40  2505.000  2487.3300  2499.50   \n",
       "1256   GOOG  2021-06-10 00:00:00+00:00  2521.60  2523.260  2494.0000  2494.01   \n",
       "1257   GOOG  2021-06-11 00:00:00+00:00  2513.93  2526.990  2498.2900  2524.92   \n",
       "\n",
       "       volume  adjClose   adjHigh     adjLow  adjOpen  adjVolume  divCash  \\\n",
       "0     1306065    718.27   722.470   713.1200   716.48    1306065      0.0   \n",
       "1     1214517    718.92   722.980   717.3100   719.00    1214517      0.0   \n",
       "2     1982471    710.36   716.650   703.2600   714.91    1982471      0.0   \n",
       "3     3402357    691.72   708.820   688.4515   708.65    3402357      0.0   \n",
       "4     2082538    693.71   702.480   693.4100   698.77    2082538      0.0   \n",
       "...       ...       ...       ...        ...      ...        ...      ...   \n",
       "1253  1192453   2466.09  2468.000  2441.0725  2451.32    1192453      0.0   \n",
       "1254  1253253   2482.85  2494.495  2468.2400  2479.90    1253253      0.0   \n",
       "1255  1006337   2491.40  2505.000  2487.3300  2499.50    1006337      0.0   \n",
       "1256  1561733   2521.60  2523.260  2494.0000  2494.01    1561733      0.0   \n",
       "1257  1262309   2513.93  2526.990  2498.2900  2524.92    1262309      0.0   \n",
       "\n",
       "      splitFactor  \n",
       "0             1.0  \n",
       "1             1.0  \n",
       "2             1.0  \n",
       "3             1.0  \n",
       "4             1.0  \n",
       "...           ...  \n",
       "1253          1.0  \n",
       "1254          1.0  \n",
       "1255          1.0  \n",
       "1256          1.0  \n",
       "1257          1.0  \n",
       "\n",
       "[1258 rows x 14 columns]"
      ]
     },
     "execution_count": 2,
     "metadata": {},
     "output_type": "execute_result"
    }
   ],
   "source": [
    "data = pd.read_csv('GOOG.csv')\n",
    "data"
   ]
  },
  {
   "cell_type": "code",
   "execution_count": 3,
   "id": "a2936d0f",
   "metadata": {},
   "outputs": [],
   "source": [
    "def generate_time_series(sample_size, n_steps):\n",
    " freq1, freq2, offsets1, offsets2 = np.random.rand(4, sample_size, 1)\n",
    " time = np.linspace(0, 1, n_steps)\n",
    " series = 0.5 * np.sin((time - offsets1) * (freq1 * 10 + 10)) #wave1+\n",
    " series += 0.2 * np.sin((time - offsets2) * (freq2 * 20 + 20)) #wave2+\n",
    " series += 0.1 * (np.random.rand(sample_size, n_steps) - 0.5) #noise\n",
    " return series[..., np.newaxis].astype(np.float32)"
   ]
  },
  {
   "cell_type": "code",
   "execution_count": 4,
   "id": "f5265222",
   "metadata": {},
   "outputs": [],
   "source": [
    "seqdata = generate_time_series(10000,51)"
   ]
  },
  {
   "cell_type": "code",
   "execution_count": 5,
   "id": "a566d438",
   "metadata": {},
   "outputs": [
    {
     "data": {
      "text/plain": [
       "array([0.04151234], dtype=float32)"
      ]
     },
     "execution_count": 5,
     "metadata": {},
     "output_type": "execute_result"
    }
   ],
   "source": [
    "seqdata[0][50]"
   ]
  },
  {
   "cell_type": "code",
   "execution_count": 6,
   "id": "bf3bef92",
   "metadata": {},
   "outputs": [
    {
     "data": {
      "text/plain": [
       "(10000, 51, 1)"
      ]
     },
     "execution_count": 6,
     "metadata": {},
     "output_type": "execute_result"
    }
   ],
   "source": [
    "seqdata.shape"
   ]
  },
  {
   "cell_type": "code",
   "execution_count": 7,
   "id": "28c132d7",
   "metadata": {},
   "outputs": [],
   "source": [
    "X = seqdata"
   ]
  },
  {
   "cell_type": "code",
   "execution_count": 8,
   "id": "cf77d473",
   "metadata": {},
   "outputs": [],
   "source": [
    "X = X[:,:-1]"
   ]
  },
  {
   "cell_type": "code",
   "execution_count": 9,
   "id": "06026fd9",
   "metadata": {},
   "outputs": [],
   "source": [
    "y = X[:,-1,:]"
   ]
  },
  {
   "cell_type": "code",
   "execution_count": 10,
   "id": "80ff6abe",
   "metadata": {},
   "outputs": [
    {
     "data": {
      "text/plain": [
       "array([[ 0.09913396],\n",
       "       [-0.30665436],\n",
       "       [ 0.5123295 ],\n",
       "       ...,\n",
       "       [-0.4075108 ],\n",
       "       [ 0.27888572],\n",
       "       [ 0.27434108]], dtype=float32)"
      ]
     },
     "execution_count": 10,
     "metadata": {},
     "output_type": "execute_result"
    }
   ],
   "source": [
    "y"
   ]
  },
  {
   "cell_type": "code",
   "execution_count": 11,
   "id": "0ed2ba65",
   "metadata": {},
   "outputs": [],
   "source": [
    "X_train, X_temp, y_train, y_temp = train_test_split(X, y, test_size=0.3, random_state=42)\n",
    "X_val, X_test, y_val, y_test = train_test_split(X_temp, y_temp, test_size=0.33, random_state=42)"
   ]
  },
  {
   "cell_type": "code",
   "execution_count": 12,
   "id": "ad3a50bf",
   "metadata": {},
   "outputs": [],
   "source": [
    "num_samples = 10000\n",
    "time_steps = 51"
   ]
  },
  {
   "cell_type": "code",
   "execution_count": 13,
   "id": "5122b83f",
   "metadata": {},
   "outputs": [
    {
     "name": "stdout",
     "output_type": "stream",
     "text": [
      "Epoch 1/50\n",
      "219/219 [==============================] - 1s 3ms/step - loss: 0.0103 - val_loss: 0.0018\n",
      "Epoch 2/50\n",
      "219/219 [==============================] - 1s 3ms/step - loss: 0.0013 - val_loss: 0.0011\n",
      "Epoch 3/50\n",
      "219/219 [==============================] - 1s 3ms/step - loss: 9.5207e-04 - val_loss: 9.1496e-04\n",
      "Epoch 4/50\n",
      "219/219 [==============================] - 1s 3ms/step - loss: 6.7304e-04 - val_loss: 6.6719e-04\n",
      "Epoch 5/50\n",
      "219/219 [==============================] - 1s 3ms/step - loss: 5.4746e-04 - val_loss: 6.3932e-04\n",
      "Epoch 6/50\n",
      "219/219 [==============================] - 1s 3ms/step - loss: 4.5008e-04 - val_loss: 4.7752e-04\n",
      "Epoch 7/50\n",
      "219/219 [==============================] - 1s 3ms/step - loss: 3.6787e-04 - val_loss: 3.8240e-04\n",
      "Epoch 8/50\n",
      "219/219 [==============================] - 1s 3ms/step - loss: 3.1095e-04 - val_loss: 4.7453e-04\n",
      "Epoch 9/50\n",
      "219/219 [==============================] - 1s 3ms/step - loss: 3.0529e-04 - val_loss: 4.0103e-04\n",
      "Epoch 10/50\n",
      "219/219 [==============================] - 1s 3ms/step - loss: 2.6293e-04 - val_loss: 2.5266e-04\n",
      "Epoch 11/50\n",
      "219/219 [==============================] - 1s 2ms/step - loss: 2.4782e-04 - val_loss: 4.3676e-04\n",
      "Epoch 12/50\n",
      "219/219 [==============================] - 1s 3ms/step - loss: 1.9940e-04 - val_loss: 2.1819e-04\n",
      "Epoch 13/50\n",
      "219/219 [==============================] - 1s 3ms/step - loss: 1.8311e-04 - val_loss: 2.7783e-04\n",
      "Epoch 14/50\n",
      "219/219 [==============================] - 1s 3ms/step - loss: 2.5397e-04 - val_loss: 2.3183e-04\n",
      "Epoch 15/50\n",
      "219/219 [==============================] - 1s 3ms/step - loss: 1.8567e-04 - val_loss: 3.1124e-04\n",
      "Epoch 16/50\n",
      "219/219 [==============================] - 1s 3ms/step - loss: 1.4278e-04 - val_loss: 2.2233e-04\n",
      "Epoch 17/50\n",
      "219/219 [==============================] - 1s 3ms/step - loss: 1.3480e-04 - val_loss: 1.9652e-04\n",
      "Epoch 18/50\n",
      "219/219 [==============================] - 1s 3ms/step - loss: 1.4067e-04 - val_loss: 2.3125e-04\n",
      "Epoch 19/50\n",
      "219/219 [==============================] - 1s 3ms/step - loss: 1.7662e-04 - val_loss: 1.4706e-04\n",
      "Epoch 20/50\n",
      "219/219 [==============================] - 1s 3ms/step - loss: 1.1199e-04 - val_loss: 2.1914e-04\n",
      "Epoch 21/50\n",
      "219/219 [==============================] - 1s 3ms/step - loss: 1.6181e-04 - val_loss: 2.2793e-04\n",
      "Epoch 22/50\n",
      "219/219 [==============================] - 1s 2ms/step - loss: 1.0591e-04 - val_loss: 1.1538e-04\n",
      "Epoch 23/50\n",
      "219/219 [==============================] - 1s 2ms/step - loss: 9.6814e-05 - val_loss: 1.2414e-04\n",
      "Epoch 24/50\n",
      "219/219 [==============================] - 1s 3ms/step - loss: 1.0187e-04 - val_loss: 1.2016e-04\n",
      "Epoch 25/50\n",
      "219/219 [==============================] - 1s 3ms/step - loss: 1.0315e-04 - val_loss: 1.1133e-04\n",
      "Epoch 26/50\n",
      "219/219 [==============================] - 1s 3ms/step - loss: 1.1011e-04 - val_loss: 1.0242e-04\n",
      "Epoch 27/50\n",
      "219/219 [==============================] - 1s 3ms/step - loss: 8.8219e-05 - val_loss: 1.7397e-04\n",
      "Epoch 28/50\n",
      "219/219 [==============================] - 1s 3ms/step - loss: 8.6484e-05 - val_loss: 1.1113e-04\n",
      "Epoch 29/50\n",
      "219/219 [==============================] - 1s 3ms/step - loss: 9.0490e-05 - val_loss: 9.9793e-05\n",
      "Epoch 30/50\n",
      "219/219 [==============================] - 1s 3ms/step - loss: 7.0349e-05 - val_loss: 9.0793e-05\n",
      "Epoch 31/50\n",
      "219/219 [==============================] - 1s 3ms/step - loss: 8.4793e-05 - val_loss: 1.0172e-04\n",
      "Epoch 32/50\n",
      "219/219 [==============================] - 1s 3ms/step - loss: 7.6605e-05 - val_loss: 8.6979e-05\n",
      "Epoch 33/50\n",
      "219/219 [==============================] - 1s 3ms/step - loss: 6.1800e-05 - val_loss: 5.7071e-05\n",
      "Epoch 34/50\n",
      "219/219 [==============================] - 1s 3ms/step - loss: 7.9420e-05 - val_loss: 1.0950e-04\n",
      "Epoch 35/50\n",
      "219/219 [==============================] - 1s 3ms/step - loss: 1.0820e-04 - val_loss: 8.9008e-05\n",
      "Epoch 36/50\n",
      "219/219 [==============================] - 1s 3ms/step - loss: 7.1791e-05 - val_loss: 4.3054e-05\n",
      "Epoch 37/50\n",
      "219/219 [==============================] - 1s 3ms/step - loss: 5.1457e-05 - val_loss: 7.5751e-05\n",
      "Epoch 38/50\n",
      "219/219 [==============================] - 1s 3ms/step - loss: 5.4724e-05 - val_loss: 4.3465e-05\n",
      "Epoch 39/50\n",
      "219/219 [==============================] - 1s 2ms/step - loss: 6.1501e-05 - val_loss: 6.5791e-05\n",
      "Epoch 40/50\n",
      "219/219 [==============================] - 1s 3ms/step - loss: 4.9171e-05 - val_loss: 6.5395e-05\n",
      "Epoch 41/50\n",
      "219/219 [==============================] - 1s 2ms/step - loss: 5.9528e-05 - val_loss: 7.1282e-05\n",
      "Epoch 42/50\n",
      "219/219 [==============================] - 1s 3ms/step - loss: 5.8777e-05 - val_loss: 5.8361e-05\n",
      "Epoch 43/50\n",
      "219/219 [==============================] - 1s 3ms/step - loss: 5.0532e-05 - val_loss: 4.7304e-05\n",
      "Epoch 44/50\n",
      "219/219 [==============================] - 1s 3ms/step - loss: 6.1186e-05 - val_loss: 5.3921e-05\n",
      "Epoch 45/50\n",
      "219/219 [==============================] - 1s 2ms/step - loss: 3.8576e-05 - val_loss: 5.2035e-05\n",
      "Epoch 46/50\n",
      "219/219 [==============================] - 1s 3ms/step - loss: 3.9238e-05 - val_loss: 5.2938e-05\n",
      "Epoch 47/50\n",
      "219/219 [==============================] - 1s 3ms/step - loss: 3.9430e-05 - val_loss: 4.7229e-05\n",
      "Epoch 48/50\n",
      "219/219 [==============================] - 1s 3ms/step - loss: 3.4014e-05 - val_loss: 3.5835e-05\n",
      "Epoch 49/50\n",
      "219/219 [==============================] - 1s 3ms/step - loss: 5.3218e-05 - val_loss: 3.5024e-05\n",
      "Epoch 50/50\n",
      "219/219 [==============================] - 1s 3ms/step - loss: 5.0453e-05 - val_loss: 4.7892e-05\n"
     ]
    }
   ],
   "source": [
    "model_fc = Sequential([\n",
    "    Dense(128, activation='relu',input_shape=(50,)),\n",
    "    Dense(64, activation='relu'),\n",
    "    Dense(1)\n",
    "])\n",
    "model_fc.compile(optimizer='adam', loss='mean_squared_error')\n",
    "history = model_fc.fit(X_train, y_train, epochs=50, validation_data=(X_val, y_val))"
   ]
  },
  {
   "cell_type": "code",
   "execution_count": 14,
   "id": "5a804e2e",
   "metadata": {},
   "outputs": [
    {
     "name": "stdout",
     "output_type": "stream",
     "text": [
      "31/31 [==============================] - 0s 2ms/step\n"
     ]
    }
   ],
   "source": [
    "pred = model_fc.predict(X_test)"
   ]
  },
  {
   "cell_type": "code",
   "execution_count": 15,
   "id": "7ef6078d",
   "metadata": {},
   "outputs": [
    {
     "data": {
      "image/png": "[encoded data removed]",
      "text/plain": [
       "<Figure size 432x288 with 1 Axes>"
      ]
     },
     "metadata": {
      "needs_background": "light"
     },
     "output_type": "display_data"
    }
   ],
   "source": [
    "plt.plot(y_test,label='original')\n",
    "plt.plot(pred,label='predicted')\n",
    "plt.legend()\n",
    "plt.show()"
   ]
  },
  {
   "cell_type": "code",
   "execution_count": 16,
   "id": "2880e42e",
   "metadata": {},
   "outputs": [
    {
     "data": {
      "image/png": "[encoded data removed]",
      "text/plain": [
       "<Figure size 432x288 with 1 Axes>"
      ]
     },
     "metadata": {
      "needs_background": "light"
     },
     "output_type": "display_data"
    }
   ],
   "source": [
    "loss = history.history['loss']\n",
    "val_loss = history.history['val_loss']\n",
    "plt.plot(loss,label='LOSS')\n",
    "plt.ylabel(\"LOSS\")\n",
    "plt.title(\"FULLY CONNECTED NN LOSS CURVE\")\n",
    "plt.plot(val_loss,label='VALIDATION LOSS')\n",
    "plt.show()"
   ]
  },
  {
   "cell_type": "code",
   "execution_count": 17,
   "id": "4ad3614e",
   "metadata": {},
   "outputs": [
    {
     "data": {
      "text/plain": [
       "(7000, 50, 1)"
      ]
     },
     "execution_count": 17,
     "metadata": {},
     "output_type": "execute_result"
    }
   ],
   "source": [
    "X_train.shape\n",
    "s = X_train.shape\n",
    "s"
   ]
  },
  {
   "cell_type": "code",
   "execution_count": 18,
   "id": "f621cc2f",
   "metadata": {},
   "outputs": [
    {
     "name": "stdout",
     "output_type": "stream",
     "text": [
      "Epoch 1/50\n",
      "219/219 [==============================] - 3s 10ms/step - loss: 0.0116 - val_loss: 4.1227e-04\n",
      "Epoch 2/50\n",
      "219/219 [==============================] - 2s 9ms/step - loss: 2.1979e-04 - val_loss: 1.1082e-04\n",
      "Epoch 3/50\n",
      "219/219 [==============================] - 2s 9ms/step - loss: 7.3398e-05 - val_loss: 3.9071e-05\n",
      "Epoch 4/50\n",
      "219/219 [==============================] - 2s 9ms/step - loss: 3.0625e-05 - val_loss: 2.0564e-05\n",
      "Epoch 5/50\n",
      "219/219 [==============================] - 2s 9ms/step - loss: 1.8480e-05 - val_loss: 1.4727e-05\n",
      "Epoch 6/50\n",
      "219/219 [==============================] - 2s 9ms/step - loss: 1.4338e-05 - val_loss: 1.6947e-05\n",
      "Epoch 7/50\n",
      "219/219 [==============================] - 2s 9ms/step - loss: 1.2316e-05 - val_loss: 9.8334e-06\n",
      "Epoch 8/50\n",
      "219/219 [==============================] - 2s 9ms/step - loss: 1.0744e-05 - val_loss: 8.4383e-06\n",
      "Epoch 9/50\n",
      "219/219 [==============================] - 2s 9ms/step - loss: 9.3307e-06 - val_loss: 9.5088e-06\n",
      "Epoch 10/50\n",
      "219/219 [==============================] - 2s 9ms/step - loss: 8.7531e-06 - val_loss: 9.6495e-06\n",
      "Epoch 11/50\n",
      "219/219 [==============================] - 2s 9ms/step - loss: 6.7540e-06 - val_loss: 4.8874e-06\n",
      "Epoch 12/50\n",
      "219/219 [==============================] - 2s 9ms/step - loss: 5.6816e-06 - val_loss: 5.3124e-06\n",
      "Epoch 13/50\n",
      "219/219 [==============================] - 2s 9ms/step - loss: 5.8783e-06 - val_loss: 4.0105e-06\n",
      "Epoch 14/50\n",
      "219/219 [==============================] - 2s 8ms/step - loss: 4.7707e-06 - val_loss: 3.7211e-06\n",
      "Epoch 15/50\n",
      "219/219 [==============================] - 2s 9ms/step - loss: 5.2096e-06 - val_loss: 1.1758e-05\n",
      "Epoch 16/50\n",
      "219/219 [==============================] - 2s 9ms/step - loss: 4.9920e-06 - val_loss: 3.9989e-06\n",
      "Epoch 17/50\n",
      "219/219 [==============================] - 2s 9ms/step - loss: 5.4631e-06 - val_loss: 6.5983e-06\n",
      "Epoch 18/50\n",
      "219/219 [==============================] - 2s 9ms/step - loss: 4.3896e-06 - val_loss: 3.2562e-06\n",
      "Epoch 19/50\n",
      "219/219 [==============================] - 2s 9ms/step - loss: 4.7044e-06 - val_loss: 3.8396e-06\n",
      "Epoch 20/50\n",
      "219/219 [==============================] - 2s 9ms/step - loss: 3.2082e-06 - val_loss: 4.7247e-06\n",
      "Epoch 21/50\n",
      "219/219 [==============================] - 2s 9ms/step - loss: 4.9620e-06 - val_loss: 7.3655e-06\n",
      "Epoch 22/50\n",
      "219/219 [==============================] - 2s 9ms/step - loss: 3.4783e-06 - val_loss: 2.0960e-06\n",
      "Epoch 23/50\n",
      "219/219 [==============================] - 2s 9ms/step - loss: 3.2800e-06 - val_loss: 1.9546e-06\n",
      "Epoch 24/50\n",
      "219/219 [==============================] - 2s 9ms/step - loss: 3.5327e-06 - val_loss: 1.9766e-06\n",
      "Epoch 25/50\n",
      "219/219 [==============================] - 2s 9ms/step - loss: 3.4962e-06 - val_loss: 1.8484e-06\n",
      "Epoch 26/50\n",
      "219/219 [==============================] - 2s 9ms/step - loss: 2.6465e-06 - val_loss: 3.2524e-06\n",
      "Epoch 27/50\n",
      "219/219 [==============================] - 2s 9ms/step - loss: 2.2389e-06 - val_loss: 4.5925e-06\n",
      "Epoch 28/50\n",
      "219/219 [==============================] - 2s 9ms/step - loss: 3.0219e-06 - val_loss: 7.9351e-06\n",
      "Epoch 29/50\n",
      "219/219 [==============================] - 2s 9ms/step - loss: 2.9569e-06 - val_loss: 4.3349e-06\n",
      "Epoch 30/50\n",
      "219/219 [==============================] - 2s 9ms/step - loss: 2.5030e-06 - val_loss: 2.8411e-06\n",
      "Epoch 31/50\n",
      "219/219 [==============================] - 2s 9ms/step - loss: 2.4686e-06 - val_loss: 1.3799e-06\n",
      "Epoch 32/50\n",
      "219/219 [==============================] - 2s 9ms/step - loss: 2.0954e-06 - val_loss: 1.0995e-06\n",
      "Epoch 33/50\n",
      "219/219 [==============================] - 2s 9ms/step - loss: 2.1425e-06 - val_loss: 9.9675e-07\n",
      "Epoch 34/50\n",
      "219/219 [==============================] - 2s 9ms/step - loss: 3.0569e-06 - val_loss: 4.5140e-06\n",
      "Epoch 35/50\n",
      "219/219 [==============================] - 2s 9ms/step - loss: 2.0440e-06 - val_loss: 1.9990e-06\n",
      "Epoch 36/50\n",
      "219/219 [==============================] - 2s 9ms/step - loss: 1.7530e-06 - val_loss: 6.0582e-07\n",
      "Epoch 37/50\n",
      "219/219 [==============================] - 2s 9ms/step - loss: 1.4887e-06 - val_loss: 8.6099e-07\n",
      "Epoch 38/50\n",
      "219/219 [==============================] - 2s 9ms/step - loss: 1.2330e-06 - val_loss: 5.0590e-06\n",
      "Epoch 39/50\n",
      "219/219 [==============================] - 2s 9ms/step - loss: 1.2088e-06 - val_loss: 1.1297e-06\n",
      "Epoch 40/50\n",
      "219/219 [==============================] - 2s 9ms/step - loss: 7.9582e-07 - val_loss: 6.9403e-07\n",
      "Epoch 41/50\n",
      "219/219 [==============================] - 2s 9ms/step - loss: 1.0993e-06 - val_loss: 1.9572e-06\n",
      "Epoch 42/50\n",
      "219/219 [==============================] - 2s 9ms/step - loss: 1.0342e-06 - val_loss: 5.8691e-07\n",
      "Epoch 43/50\n",
      "219/219 [==============================] - 2s 9ms/step - loss: 2.2215e-06 - val_loss: 1.8496e-06\n",
      "Epoch 44/50\n",
      "219/219 [==============================] - 2s 9ms/step - loss: 1.3680e-06 - val_loss: 1.3122e-06\n",
      "Epoch 45/50\n",
      "219/219 [==============================] - 2s 9ms/step - loss: 8.3449e-07 - val_loss: 2.5184e-06\n",
      "Epoch 46/50\n",
      "219/219 [==============================] - 2s 9ms/step - loss: 4.7914e-06 - val_loss: 6.6788e-07\n",
      "Epoch 47/50\n",
      "219/219 [==============================] - 2s 9ms/step - loss: 6.4428e-07 - val_loss: 1.1795e-06\n",
      "Epoch 48/50\n",
      "219/219 [==============================] - 2s 9ms/step - loss: 6.7610e-07 - val_loss: 7.0249e-07\n",
      "Epoch 49/50\n",
      "219/219 [==============================] - 2s 9ms/step - loss: 2.9215e-06 - val_loss: 2.6595e-07\n",
      "Epoch 50/50\n",
      "219/219 [==============================] - 2s 9ms/step - loss: 8.8766e-07 - val_loss: 4.5275e-07\n"
     ]
    }
   ],
   "source": [
    "#Simple RNN with one layer (output layer)\n",
    "model_rnn_one = Sequential([\n",
    "    SimpleRNN(50, activation='relu', input_shape=(50,1)),\n",
    "    Dense(1)\n",
    "])\n",
    "model_rnn_one.compile(optimizer='adam', loss='mean_squared_error')\n",
    "history1 = model_rnn_one.fit(X_train, y_train, epochs=50, validation_data=(X_val, y_val))"
   ]
  },
  {
   "cell_type": "code",
   "execution_count": 19,
   "id": "aaaab866",
   "metadata": {},
   "outputs": [
    {
     "name": "stdout",
     "output_type": "stream",
     "text": [
      "31/31 [==============================] - 0s 4ms/step\n"
     ]
    },
    {
     "data": {
      "image/png": "[encoded data removed]",
      "text/plain": [
       "<Figure size 432x288 with 1 Axes>"
      ]
     },
     "metadata": {
      "needs_background": "light"
     },
     "output_type": "display_data"
    }
   ],
   "source": [
    "pred1 = model_rnn_one.predict(X_test)\n",
    "plt.plot(y_test,label='original')\n",
    "plt.plot(pred1,label='predicted')\n",
    "plt.legend()\n",
    "plt.title(\"PREDICTIONS BASED ON a single RNN layer\")\n",
    "plt.show()"
   ]
  },
  {
   "cell_type": "code",
   "execution_count": 20,
   "id": "c80279cd",
   "metadata": {},
   "outputs": [
    {
     "data": {
      "image/png": "[encoded data removed]",
      "text/plain": [
       "<Figure size 432x288 with 1 Axes>"
      ]
     },
     "metadata": {
      "needs_background": "light"
     },
     "output_type": "display_data"
    }
   ],
   "source": [
    "loss = history1.history['loss']\n",
    "val_loss = history1.history['val_loss']\n",
    "plt.plot(loss,label=\"LOSS\")\n",
    "plt.ylabel(\"loss\")\n",
    "plt.plot(val_loss,label=\"VALIDATION LOSS\")\n",
    "plt.legend()\n",
    "plt.title(\"LOSS CURVE WITH ONLY 1 RNN\")\n",
    "plt.show()"
   ]
  },
  {
   "cell_type": "code",
   "execution_count": 21,
   "id": "34fac5ab",
   "metadata": {},
   "outputs": [],
   "source": [
    "model_rnn_hidden = Sequential([\n",
    "    SimpleRNN(64, activation='relu', return_sequences=True, input_shape=(50, 1)),\n",
    "    SimpleRNN(32, activation='relu'),\n",
    "    Dense(1)\n",
    "])"
   ]
  },
  {
   "cell_type": "code",
   "execution_count": 22,
   "id": "e66a55c8",
   "metadata": {},
   "outputs": [
    {
     "name": "stdout",
     "output_type": "stream",
     "text": [
      "Epoch 1/50\n",
      "219/219 [==============================] - 6s 20ms/step - loss: 0.0047 - val_loss: 1.2748e-04\n",
      "Epoch 2/50\n",
      "219/219 [==============================] - 4s 18ms/step - loss: 7.0269e-05 - val_loss: 5.0325e-05\n",
      "Epoch 3/50\n",
      "219/219 [==============================] - 4s 19ms/step - loss: 4.6069e-05 - val_loss: 3.0397e-05\n",
      "Epoch 4/50\n",
      "219/219 [==============================] - 4s 19ms/step - loss: 3.0379e-05 - val_loss: 2.4683e-05\n",
      "Epoch 5/50\n",
      "219/219 [==============================] - 4s 19ms/step - loss: 3.1186e-05 - val_loss: 2.3875e-05\n",
      "Epoch 6/50\n",
      "219/219 [==============================] - 5s 21ms/step - loss: 1.9600e-05 - val_loss: 1.7033e-05\n",
      "Epoch 7/50\n",
      "219/219 [==============================] - 4s 20ms/step - loss: 1.9186e-05 - val_loss: 1.3482e-05\n",
      "Epoch 8/50\n",
      "219/219 [==============================] - 4s 20ms/step - loss: 1.7489e-05 - val_loss: 1.3030e-05\n",
      "Epoch 9/50\n",
      "219/219 [==============================] - 4s 18ms/step - loss: 1.6266e-05 - val_loss: 1.3244e-05\n",
      "Epoch 10/50\n",
      "219/219 [==============================] - 4s 18ms/step - loss: 1.2916e-05 - val_loss: 1.6101e-05\n",
      "Epoch 11/50\n",
      "219/219 [==============================] - 4s 18ms/step - loss: 1.3729e-05 - val_loss: 9.4562e-06\n",
      "Epoch 12/50\n",
      "219/219 [==============================] - 4s 18ms/step - loss: 1.2911e-05 - val_loss: 1.7905e-05\n",
      "Epoch 13/50\n",
      "219/219 [==============================] - 4s 18ms/step - loss: 1.1780e-05 - val_loss: 6.5494e-06\n",
      "Epoch 14/50\n",
      "219/219 [==============================] - 4s 18ms/step - loss: 1.1278e-05 - val_loss: 7.5539e-06\n",
      "Epoch 15/50\n",
      "219/219 [==============================] - 4s 19ms/step - loss: 1.1214e-05 - val_loss: 1.9714e-05\n",
      "Epoch 16/50\n",
      "219/219 [==============================] - 4s 19ms/step - loss: 1.7710e-05 - val_loss: 2.1796e-05\n",
      "Epoch 17/50\n",
      "219/219 [==============================] - 4s 20ms/step - loss: 7.7737e-06 - val_loss: 6.6523e-06\n",
      "Epoch 18/50\n",
      "219/219 [==============================] - 4s 19ms/step - loss: 9.9575e-06 - val_loss: 7.5967e-06\n",
      "Epoch 19/50\n",
      "219/219 [==============================] - 4s 19ms/step - loss: 6.7652e-06 - val_loss: 6.4330e-06\n",
      "Epoch 20/50\n",
      "219/219 [==============================] - 4s 19ms/step - loss: 1.3052e-05 - val_loss: 1.4122e-05\n",
      "Epoch 21/50\n",
      "219/219 [==============================] - 4s 18ms/step - loss: 8.6449e-06 - val_loss: 1.5293e-05\n",
      "Epoch 22/50\n",
      "219/219 [==============================] - 4s 18ms/step - loss: 1.4122e-05 - val_loss: 5.1919e-06\n",
      "Epoch 23/50\n",
      "219/219 [==============================] - 4s 18ms/step - loss: 4.7224e-06 - val_loss: 3.3835e-06\n",
      "Epoch 24/50\n",
      "219/219 [==============================] - 4s 18ms/step - loss: 4.0792e-06 - val_loss: 2.9194e-05\n",
      "Epoch 25/50\n",
      "219/219 [==============================] - 4s 18ms/step - loss: 7.4061e-06 - val_loss: 3.3565e-05\n",
      "Epoch 26/50\n",
      "219/219 [==============================] - 4s 18ms/step - loss: 1.4597e-05 - val_loss: 2.8011e-06\n",
      "Epoch 27/50\n",
      "219/219 [==============================] - 4s 18ms/step - loss: 6.9726e-06 - val_loss: 3.5037e-06\n",
      "Epoch 28/50\n",
      "219/219 [==============================] - 4s 19ms/step - loss: 3.4988e-06 - val_loss: 2.7432e-06\n",
      "Epoch 29/50\n",
      "219/219 [==============================] - 4s 19ms/step - loss: 3.4018e-06 - val_loss: 1.9316e-06\n",
      "Epoch 30/50\n",
      "219/219 [==============================] - 4s 18ms/step - loss: 4.5779e-06 - val_loss: 1.9302e-06\n",
      "Epoch 31/50\n",
      "219/219 [==============================] - 4s 18ms/step - loss: 1.7811e-05 - val_loss: 5.7446e-05\n",
      "Epoch 32/50\n",
      "219/219 [==============================] - 4s 18ms/step - loss: 1.5839e-05 - val_loss: 1.9282e-06\n",
      "Epoch 33/50\n",
      "219/219 [==============================] - 4s 18ms/step - loss: 2.5921e-06 - val_loss: 2.0875e-06\n",
      "Epoch 34/50\n",
      "219/219 [==============================] - 4s 18ms/step - loss: 6.0881e-06 - val_loss: 6.1825e-06\n",
      "Epoch 35/50\n",
      "219/219 [==============================] - 4s 18ms/step - loss: 3.5486e-06 - val_loss: 1.4596e-06\n",
      "Epoch 36/50\n",
      "219/219 [==============================] - 4s 18ms/step - loss: 2.2230e-06 - val_loss: 1.4565e-06\n",
      "Epoch 37/50\n",
      "219/219 [==============================] - 4s 18ms/step - loss: 5.1313e-06 - val_loss: 7.4158e-06\n",
      "Epoch 38/50\n",
      "219/219 [==============================] - 4s 18ms/step - loss: 4.5682e-06 - val_loss: 4.3154e-06\n",
      "Epoch 39/50\n",
      "219/219 [==============================] - 4s 18ms/step - loss: 1.6714e-05 - val_loss: 1.0576e-05\n",
      "Epoch 40/50\n",
      "219/219 [==============================] - 4s 18ms/step - loss: 5.3769e-06 - val_loss: 6.3697e-06\n",
      "Epoch 41/50\n",
      "219/219 [==============================] - 4s 18ms/step - loss: 1.7954e-06 - val_loss: 1.2155e-06\n",
      "Epoch 42/50\n",
      "219/219 [==============================] - 4s 18ms/step - loss: 1.8118e-06 - val_loss: 1.4042e-06\n",
      "Epoch 43/50\n",
      "219/219 [==============================] - 4s 18ms/step - loss: 6.8499e-06 - val_loss: 2.0553e-06\n",
      "Epoch 44/50\n",
      "219/219 [==============================] - 4s 18ms/step - loss: 7.8367e-06 - val_loss: 1.1677e-05\n",
      "Epoch 45/50\n",
      "219/219 [==============================] - 4s 18ms/step - loss: 5.0495e-06 - val_loss: 3.0182e-06\n",
      "Epoch 46/50\n",
      "219/219 [==============================] - 4s 18ms/step - loss: 6.0087e-06 - val_loss: 4.0568e-06\n",
      "Epoch 47/50\n",
      "219/219 [==============================] - 4s 18ms/step - loss: 1.5310e-06 - val_loss: 1.0962e-06\n",
      "Epoch 48/50\n",
      "219/219 [==============================] - 4s 19ms/step - loss: 2.8550e-06 - val_loss: 4.6311e-06\n",
      "Epoch 49/50\n",
      "219/219 [==============================] - 4s 19ms/step - loss: 1.3984e-06 - val_loss: 7.7390e-07\n",
      "Epoch 50/50\n",
      "219/219 [==============================] - 4s 19ms/step - loss: 1.1801e-05 - val_loss: 6.5721e-07\n"
     ]
    }
   ],
   "source": [
    "model_rnn_hidden.compile(optimizer='adam', loss='mean_squared_error')\n",
    "history2 = model_rnn_hidden.fit(X_train, y_train, epochs=50, validation_data=(X_val, y_val))"
   ]
  },
  {
   "cell_type": "code",
   "execution_count": 23,
   "id": "f055735b",
   "metadata": {},
   "outputs": [
    {
     "data": {
      "image/png": "[encoded data removed]",
      "text/plain": [
       "<Figure size 432x288 with 1 Axes>"
      ]
     },
     "metadata": {
      "needs_background": "light"
     },
     "output_type": "display_data"
    }
   ],
   "source": [
    "loss = history2.history['loss']\n",
    "val_loss = history2.history['val_loss']\n",
    "plt.plot(loss)\n",
    "plt.plot(val_loss)\n",
    "plt.show()"
   ]
  },
  {
   "cell_type": "code",
   "execution_count": 24,
   "id": "032edf2f",
   "metadata": {},
   "outputs": [],
   "source": [
    "con1 = data.date>\"2020-01-01 00:00:00+00:00\"\n",
    "con2 = data.date<\"2021-12-31 00:00:00+00:00\"\n",
    "yeardata = data[con1 & con2]"
   ]
  },
  {
   "cell_type": "code",
   "execution_count": 25,
   "id": "76d0cd53",
   "metadata": {},
   "outputs": [
    {
     "data": {
      "text/html": [
       "<div>\n",
       "<style scoped>\n",
       "    .dataframe tbody tr th:only-of-type {\n",
       "        vertical-align: middle;\n",
       "    }\n",
       "\n",
       "    .dataframe tbody tr th {\n",
       "        vertical-align: top;\n",
       "    }\n",
       "\n",
       "    .dataframe thead th {\n",
       "        text-align: right;\n",
       "    }\n",
       "</style>\n",
       "<table border=\"1\" class=\"dataframe\">\n",
       "  <thead>\n",
       "    <tr style=\"text-align: right;\">\n",
       "      <th></th>\n",
       "      <th>symbol</th>\n",
       "      <th>date</th>\n",
       "      <th>close</th>\n",
       "      <th>high</th>\n",
       "      <th>low</th>\n",
       "      <th>open</th>\n",
       "      <th>volume</th>\n",
       "      <th>adjClose</th>\n",
       "      <th>adjHigh</th>\n",
       "      <th>adjLow</th>\n",
       "      <th>adjOpen</th>\n",
       "      <th>adjVolume</th>\n",
       "      <th>divCash</th>\n",
       "      <th>splitFactor</th>\n",
       "    </tr>\n",
       "  </thead>\n",
       "  <tbody>\n",
       "    <tr>\n",
       "      <th>894</th>\n",
       "      <td>GOOG</td>\n",
       "      <td>2020-01-02 00:00:00+00:00</td>\n",
       "      <td>1367.37</td>\n",
       "      <td>1368.140</td>\n",
       "      <td>1341.5500</td>\n",
       "      <td>1341.55</td>\n",
       "      <td>1406731</td>\n",
       "      <td>1367.37</td>\n",
       "      <td>1368.140</td>\n",
       "      <td>1341.5500</td>\n",
       "      <td>1341.55</td>\n",
       "      <td>1406731</td>\n",
       "      <td>0.0</td>\n",
       "      <td>1.0</td>\n",
       "    </tr>\n",
       "    <tr>\n",
       "      <th>895</th>\n",
       "      <td>GOOG</td>\n",
       "      <td>2020-01-03 00:00:00+00:00</td>\n",
       "      <td>1360.66</td>\n",
       "      <td>1372.500</td>\n",
       "      <td>1345.5400</td>\n",
       "      <td>1347.86</td>\n",
       "      <td>1187006</td>\n",
       "      <td>1360.66</td>\n",
       "      <td>1372.500</td>\n",
       "      <td>1345.5400</td>\n",
       "      <td>1347.86</td>\n",
       "      <td>1187006</td>\n",
       "      <td>0.0</td>\n",
       "      <td>1.0</td>\n",
       "    </tr>\n",
       "    <tr>\n",
       "      <th>896</th>\n",
       "      <td>GOOG</td>\n",
       "      <td>2020-01-06 00:00:00+00:00</td>\n",
       "      <td>1394.21</td>\n",
       "      <td>1396.500</td>\n",
       "      <td>1350.0000</td>\n",
       "      <td>1350.00</td>\n",
       "      <td>1733149</td>\n",
       "      <td>1394.21</td>\n",
       "      <td>1396.500</td>\n",
       "      <td>1350.0000</td>\n",
       "      <td>1350.00</td>\n",
       "      <td>1733149</td>\n",
       "      <td>0.0</td>\n",
       "      <td>1.0</td>\n",
       "    </tr>\n",
       "    <tr>\n",
       "      <th>897</th>\n",
       "      <td>GOOG</td>\n",
       "      <td>2020-01-07 00:00:00+00:00</td>\n",
       "      <td>1393.34</td>\n",
       "      <td>1402.990</td>\n",
       "      <td>1390.3800</td>\n",
       "      <td>1397.94</td>\n",
       "      <td>1511693</td>\n",
       "      <td>1393.34</td>\n",
       "      <td>1402.990</td>\n",
       "      <td>1390.3800</td>\n",
       "      <td>1397.94</td>\n",
       "      <td>1511693</td>\n",
       "      <td>0.0</td>\n",
       "      <td>1.0</td>\n",
       "    </tr>\n",
       "    <tr>\n",
       "      <th>898</th>\n",
       "      <td>GOOG</td>\n",
       "      <td>2020-01-08 00:00:00+00:00</td>\n",
       "      <td>1404.32</td>\n",
       "      <td>1411.580</td>\n",
       "      <td>1390.8400</td>\n",
       "      <td>1392.08</td>\n",
       "      <td>1529177</td>\n",
       "      <td>1404.32</td>\n",
       "      <td>1411.580</td>\n",
       "      <td>1390.8400</td>\n",
       "      <td>1392.08</td>\n",
       "      <td>1529177</td>\n",
       "      <td>0.0</td>\n",
       "      <td>1.0</td>\n",
       "    </tr>\n",
       "    <tr>\n",
       "      <th>...</th>\n",
       "      <td>...</td>\n",
       "      <td>...</td>\n",
       "      <td>...</td>\n",
       "      <td>...</td>\n",
       "      <td>...</td>\n",
       "      <td>...</td>\n",
       "      <td>...</td>\n",
       "      <td>...</td>\n",
       "      <td>...</td>\n",
       "      <td>...</td>\n",
       "      <td>...</td>\n",
       "      <td>...</td>\n",
       "      <td>...</td>\n",
       "      <td>...</td>\n",
       "    </tr>\n",
       "    <tr>\n",
       "      <th>1253</th>\n",
       "      <td>GOOG</td>\n",
       "      <td>2021-06-07 00:00:00+00:00</td>\n",
       "      <td>2466.09</td>\n",
       "      <td>2468.000</td>\n",
       "      <td>2441.0725</td>\n",
       "      <td>2451.32</td>\n",
       "      <td>1192453</td>\n",
       "      <td>2466.09</td>\n",
       "      <td>2468.000</td>\n",
       "      <td>2441.0725</td>\n",
       "      <td>2451.32</td>\n",
       "      <td>1192453</td>\n",
       "      <td>0.0</td>\n",
       "      <td>1.0</td>\n",
       "    </tr>\n",
       "    <tr>\n",
       "      <th>1254</th>\n",
       "      <td>GOOG</td>\n",
       "      <td>2021-06-08 00:00:00+00:00</td>\n",
       "      <td>2482.85</td>\n",
       "      <td>2494.495</td>\n",
       "      <td>2468.2400</td>\n",
       "      <td>2479.90</td>\n",
       "      <td>1253253</td>\n",
       "      <td>2482.85</td>\n",
       "      <td>2494.495</td>\n",
       "      <td>2468.2400</td>\n",
       "      <td>2479.90</td>\n",
       "      <td>1253253</td>\n",
       "      <td>0.0</td>\n",
       "      <td>1.0</td>\n",
       "    </tr>\n",
       "    <tr>\n",
       "      <th>1255</th>\n",
       "      <td>GOOG</td>\n",
       "      <td>2021-06-09 00:00:00+00:00</td>\n",
       "      <td>2491.40</td>\n",
       "      <td>2505.000</td>\n",
       "      <td>2487.3300</td>\n",
       "      <td>2499.50</td>\n",
       "      <td>1006337</td>\n",
       "      <td>2491.40</td>\n",
       "      <td>2505.000</td>\n",
       "      <td>2487.3300</td>\n",
       "      <td>2499.50</td>\n",
       "      <td>1006337</td>\n",
       "      <td>0.0</td>\n",
       "      <td>1.0</td>\n",
       "    </tr>\n",
       "    <tr>\n",
       "      <th>1256</th>\n",
       "      <td>GOOG</td>\n",
       "      <td>2021-06-10 00:00:00+00:00</td>\n",
       "      <td>2521.60</td>\n",
       "      <td>2523.260</td>\n",
       "      <td>2494.0000</td>\n",
       "      <td>2494.01</td>\n",
       "      <td>1561733</td>\n",
       "      <td>2521.60</td>\n",
       "      <td>2523.260</td>\n",
       "      <td>2494.0000</td>\n",
       "      <td>2494.01</td>\n",
       "      <td>1561733</td>\n",
       "      <td>0.0</td>\n",
       "      <td>1.0</td>\n",
       "    </tr>\n",
       "    <tr>\n",
       "      <th>1257</th>\n",
       "      <td>GOOG</td>\n",
       "      <td>2021-06-11 00:00:00+00:00</td>\n",
       "      <td>2513.93</td>\n",
       "      <td>2526.990</td>\n",
       "      <td>2498.2900</td>\n",
       "      <td>2524.92</td>\n",
       "      <td>1262309</td>\n",
       "      <td>2513.93</td>\n",
       "      <td>2526.990</td>\n",
       "      <td>2498.2900</td>\n",
       "      <td>2524.92</td>\n",
       "      <td>1262309</td>\n",
       "      <td>0.0</td>\n",
       "      <td>1.0</td>\n",
       "    </tr>\n",
       "  </tbody>\n",
       "</table>\n",
       "<p>364 rows × 14 columns</p>\n",
       "</div>"
      ],
      "text/plain": [
       "     symbol                       date    close      high        low     open  \\\n",
       "894    GOOG  2020-01-02 00:00:00+00:00  1367.37  1368.140  1341.5500  1341.55   \n",
       "895    GOOG  2020-01-03 00:00:00+00:00  1360.66  1372.500  1345.5400  1347.86   \n",
       "896    GOOG  2020-01-06 00:00:00+00:00  1394.21  1396.500  1350.0000  1350.00   \n",
       "897    GOOG  2020-01-07 00:00:00+00:00  1393.34  1402.990  1390.3800  1397.94   \n",
       "898    GOOG  2020-01-08 00:00:00+00:00  1404.32  1411.580  1390.8400  1392.08   \n",
       "...     ...                        ...      ...       ...        ...      ...   \n",
       "1253   GOOG  2021-06-07 00:00:00+00:00  2466.09  2468.000  2441.0725  2451.32   \n",
       "1254   GOOG  2021-06-08 00:00:00+00:00  2482.85  2494.495  2468.2400  2479.90   \n",
       "1255   GOOG  2021-06-09 00:00:00+00:00  2491.40  2505.000  2487.3300  2499.50   \n",
       "1256   GOOG  2021-06-10 00:00:00+00:00  2521.60  2523.260  2494.0000  2494.01   \n",
       "1257   GOOG  2021-06-11 00:00:00+00:00  2513.93  2526.990  2498.2900  2524.92   \n",
       "\n",
       "       volume  adjClose   adjHigh     adjLow  adjOpen  adjVolume  divCash  \\\n",
       "894   1406731   1367.37  1368.140  1341.5500  1341.55    1406731      0.0   \n",
       "895   1187006   1360.66  1372.500  1345.5400  1347.86    1187006      0.0   \n",
       "896   1733149   1394.21  1396.500  1350.0000  1350.00    1733149      0.0   \n",
       "897   1511693   1393.34  1402.990  1390.3800  1397.94    1511693      0.0   \n",
       "898   1529177   1404.32  1411.580  1390.8400  1392.08    1529177      0.0   \n",
       "...       ...       ...       ...        ...      ...        ...      ...   \n",
       "1253  1192453   2466.09  2468.000  2441.0725  2451.32    1192453      0.0   \n",
       "1254  1253253   2482.85  2494.495  2468.2400  2479.90    1253253      0.0   \n",
       "1255  1006337   2491.40  2505.000  2487.3300  2499.50    1006337      0.0   \n",
       "1256  1561733   2521.60  2523.260  2494.0000  2494.01    1561733      0.0   \n",
       "1257  1262309   2513.93  2526.990  2498.2900  2524.92    1262309      0.0   \n",
       "\n",
       "      splitFactor  \n",
       "894           1.0  \n",
       "895           1.0  \n",
       "896           1.0  \n",
       "897           1.0  \n",
       "898           1.0  \n",
       "...           ...  \n",
       "1253          1.0  \n",
       "1254          1.0  \n",
       "1255          1.0  \n",
       "1256          1.0  \n",
       "1257          1.0  \n",
       "\n",
       "[364 rows x 14 columns]"
      ]
     },
     "execution_count": 25,
     "metadata": {},
     "output_type": "execute_result"
    }
   ],
   "source": [
    "yeardata"
   ]
  },
  {
   "cell_type": "code",
   "execution_count": 26,
   "id": "3ad073f8",
   "metadata": {},
   "outputs": [],
   "source": [
    "googmodel = Sequential([\n",
    "    SimpleRNN(units=64, activation='relu', return_sequences=True, input_shape=(30,1)),\n",
    "    Dropout(0.2),\n",
    "    SimpleRNN(units=64, activation='relu', return_sequences=True),\n",
    "    Dropout(0.2),\n",
    "    SimpleRNN(units=64, activation='relu', return_sequences=True),\n",
    "    Dropout(0.2),\n",
    "    SimpleRNN(units=64, activation='relu', return_sequences=True),\n",
    "    Dropout(0.2),\n",
    "    SimpleRNN(units=64, activation='relu'),\n",
    "    Dropout(0.2),\n",
    "    Dense(units=1)\n",
    "])"
   ]
  },
  {
   "cell_type": "code",
   "execution_count": 27,
   "id": "88133943",
   "metadata": {},
   "outputs": [
    {
     "name": "stdout",
     "output_type": "stream",
     "text": [
      "Input sequences shape: (334, 30)\n",
      "Output labels shape: (334,)\n"
     ]
    }
   ],
   "source": [
    "window_size = 30\n",
    "X = []  # Input sequences\n",
    "y = []  # Output labels\n",
    "\n",
    "for i in range(len(yeardata) - window_size):\n",
    "    X.append(data['close'][con1 & con2].values[i:i+window_size])\n",
    "    y.append(data['close'][con1 & con2].values[i+window_size])\n",
    "    \n",
    "X = np.array(X)\n",
    "y = np.array(y)\n",
    "\n",
    "print(\"Input sequences shape:\", X.shape)\n",
    "print(\"Output labels shape:\", y.shape)"
   ]
  },
  {
   "cell_type": "code",
   "execution_count": 28,
   "id": "06a431ef",
   "metadata": {},
   "outputs": [],
   "source": [
    "scaler = StandardScaler()"
   ]
  },
  {
   "cell_type": "code",
   "execution_count": 29,
   "id": "de8f3871",
   "metadata": {},
   "outputs": [],
   "source": [
    "X = scaler.fit_transform(X)\n",
    "y = scaler.fit_transform(y.reshape(-1,1))"
   ]
  },
  {
   "cell_type": "code",
   "execution_count": 30,
   "id": "ea87b4f7",
   "metadata": {},
   "outputs": [],
   "source": [
    "X_train, X_temp, y_train, y_temp = train_test_split(X, y, test_size=0.3, random_state=42)\n",
    "X_val, X_test, y_val, y_test = train_test_split(X_temp, y_temp, test_size=0.33, random_state=42)"
   ]
  },
  {
   "cell_type": "code",
   "execution_count": 31,
   "id": "08e1dac8",
   "metadata": {},
   "outputs": [
    {
     "name": "stdout",
     "output_type": "stream",
     "text": [
      "Epoch 1/50\n",
      "8/8 [==============================] - 4s 102ms/step - loss: 0.7377 - val_loss: 0.3771\n",
      "Epoch 2/50\n",
      "8/8 [==============================] - 0s 39ms/step - loss: 0.4306 - val_loss: 0.0523\n",
      "Epoch 3/50\n",
      "8/8 [==============================] - 0s 35ms/step - loss: 0.2049 - val_loss: 0.1278\n",
      "Epoch 4/50\n",
      "8/8 [==============================] - 0s 35ms/step - loss: 0.1494 - val_loss: 0.1058\n",
      "Epoch 5/50\n",
      "8/8 [==============================] - 0s 34ms/step - loss: 0.1191 - val_loss: 0.0601\n",
      "Epoch 6/50\n",
      "8/8 [==============================] - 0s 33ms/step - loss: 0.1066 - val_loss: 0.0440\n",
      "Epoch 7/50\n",
      "8/8 [==============================] - 0s 36ms/step - loss: 0.1250 - val_loss: 0.1036\n",
      "Epoch 8/50\n",
      "8/8 [==============================] - 0s 40ms/step - loss: 0.0954 - val_loss: 0.0577\n",
      "Epoch 9/50\n",
      "8/8 [==============================] - 0s 37ms/step - loss: 0.0786 - val_loss: 0.0944\n",
      "Epoch 10/50\n",
      "8/8 [==============================] - 0s 43ms/step - loss: 0.0789 - val_loss: 0.0647\n",
      "Epoch 11/50\n",
      "8/8 [==============================] - 0s 37ms/step - loss: 0.0892 - val_loss: 0.1090\n",
      "Epoch 12/50\n",
      "8/8 [==============================] - 0s 34ms/step - loss: 0.0740 - val_loss: 0.0571\n",
      "Epoch 13/50\n",
      "8/8 [==============================] - 0s 34ms/step - loss: 0.0652 - val_loss: 0.1032\n",
      "Epoch 14/50\n",
      "8/8 [==============================] - 0s 34ms/step - loss: 0.0713 - val_loss: 0.0754\n",
      "Epoch 15/50\n",
      "8/8 [==============================] - 0s 36ms/step - loss: 0.0788 - val_loss: 0.1033\n",
      "Epoch 16/50\n",
      "8/8 [==============================] - 0s 38ms/step - loss: 0.0767 - val_loss: 0.0623\n",
      "Epoch 17/50\n",
      "8/8 [==============================] - 0s 37ms/step - loss: 0.0654 - val_loss: 0.0738\n",
      "Epoch 18/50\n",
      "8/8 [==============================] - 0s 37ms/step - loss: 0.0593 - val_loss: 0.1103\n",
      "Epoch 19/50\n",
      "8/8 [==============================] - 0s 33ms/step - loss: 0.0635 - val_loss: 0.0896\n",
      "Epoch 20/50\n",
      "8/8 [==============================] - 0s 37ms/step - loss: 0.0725 - val_loss: 0.0558\n",
      "Epoch 21/50\n",
      "8/8 [==============================] - 0s 41ms/step - loss: 0.0502 - val_loss: 0.0844\n",
      "Epoch 22/50\n",
      "8/8 [==============================] - 0s 40ms/step - loss: 0.0568 - val_loss: 0.0770\n",
      "Epoch 23/50\n",
      "8/8 [==============================] - 0s 38ms/step - loss: 0.0801 - val_loss: 0.1213\n",
      "Epoch 24/50\n",
      "8/8 [==============================] - 0s 34ms/step - loss: 0.0776 - val_loss: 0.0525\n",
      "Epoch 25/50\n",
      "8/8 [==============================] - 0s 36ms/step - loss: 0.0631 - val_loss: 0.0855\n",
      "Epoch 26/50\n",
      "8/8 [==============================] - 0s 34ms/step - loss: 0.0526 - val_loss: 0.0928\n",
      "Epoch 27/50\n",
      "8/8 [==============================] - 0s 36ms/step - loss: 0.0546 - val_loss: 0.0897\n",
      "Epoch 28/50\n",
      "8/8 [==============================] - 0s 34ms/step - loss: 0.0660 - val_loss: 0.0714\n",
      "Epoch 29/50\n",
      "8/8 [==============================] - 0s 35ms/step - loss: 0.0452 - val_loss: 0.0762\n",
      "Epoch 30/50\n",
      "8/8 [==============================] - 0s 34ms/step - loss: 0.0456 - val_loss: 0.0502\n",
      "Epoch 31/50\n",
      "8/8 [==============================] - 0s 36ms/step - loss: 0.0475 - val_loss: 0.0991\n",
      "Epoch 32/50\n",
      "8/8 [==============================] - 0s 33ms/step - loss: 0.0659 - val_loss: 0.0470\n",
      "Epoch 33/50\n",
      "8/8 [==============================] - 0s 40ms/step - loss: 0.0665 - val_loss: 0.1878\n",
      "Epoch 34/50\n",
      "8/8 [==============================] - 0s 43ms/step - loss: 0.0541 - val_loss: 0.0330\n",
      "Epoch 35/50\n",
      "8/8 [==============================] - 0s 37ms/step - loss: 0.0834 - val_loss: 0.2247\n",
      "Epoch 36/50\n",
      "8/8 [==============================] - 0s 41ms/step - loss: 0.0735 - val_loss: 0.0306\n",
      "Epoch 37/50\n",
      "8/8 [==============================] - 0s 42ms/step - loss: 0.0557 - val_loss: 0.1591\n",
      "Epoch 38/50\n",
      "8/8 [==============================] - 0s 35ms/step - loss: 0.0637 - val_loss: 0.0569\n",
      "Epoch 39/50\n",
      "8/8 [==============================] - 0s 36ms/step - loss: 0.0530 - val_loss: 0.1026\n",
      "Epoch 40/50\n",
      "8/8 [==============================] - 0s 36ms/step - loss: 0.0557 - val_loss: 0.0693\n",
      "Epoch 41/50\n",
      "8/8 [==============================] - 0s 37ms/step - loss: 0.0551 - val_loss: 0.1086\n",
      "Epoch 42/50\n",
      "8/8 [==============================] - 0s 41ms/step - loss: 0.0442 - val_loss: 0.0694\n",
      "Epoch 43/50\n",
      "8/8 [==============================] - 0s 42ms/step - loss: 0.0389 - val_loss: 0.0637\n",
      "Epoch 44/50\n",
      "8/8 [==============================] - 0s 38ms/step - loss: 0.0465 - val_loss: 0.0786\n",
      "Epoch 45/50\n",
      "8/8 [==============================] - 0s 33ms/step - loss: 0.0465 - val_loss: 0.0709\n",
      "Epoch 46/50\n",
      "8/8 [==============================] - 0s 33ms/step - loss: 0.0458 - val_loss: 0.0610\n",
      "Epoch 47/50\n",
      "8/8 [==============================] - 0s 36ms/step - loss: 0.0410 - val_loss: 0.0626\n",
      "Epoch 48/50\n",
      "8/8 [==============================] - 0s 37ms/step - loss: 0.0457 - val_loss: 0.0979\n",
      "Epoch 49/50\n",
      "8/8 [==============================] - 0s 35ms/step - loss: 0.0495 - val_loss: 0.0533\n",
      "Epoch 50/50\n",
      "8/8 [==============================] - 0s 44ms/step - loss: 0.0438 - val_loss: 0.1477\n"
     ]
    }
   ],
   "source": [
    "# Compile the model\n",
    "googmodel.compile(optimizer='adam', loss='mean_squared_error')\n",
    "\n",
    "# Train the model\n",
    "ghistory = googmodel.fit(X_train,y_train, epochs=50, batch_size=32, validation_data=(X_val, y_val))\n"
   ]
  },
  {
   "cell_type": "code",
   "execution_count": 32,
   "id": "765cd6c1",
   "metadata": {},
   "outputs": [
    {
     "data": {
      "image/png": "[encoded data removed]",
      "text/plain": [
       "<Figure size 432x288 with 1 Axes>"
      ]
     },
     "metadata": {
      "needs_background": "light"
     },
     "output_type": "display_data"
    }
   ],
   "source": [
    "loss = ghistory.history['loss']\n",
    "val_loss = ghistory.history['val_loss']\n",
    "plt.plot(loss)\n",
    "plt.plot(val_loss)\n",
    "plt.title(\"LOSS CURVE FOR GOOG CLOSE PRICE MODELING\")\n",
    "plt.show()"
   ]
  },
  {
   "cell_type": "code",
   "execution_count": 33,
   "id": "0b8e836e",
   "metadata": {},
   "outputs": [
    {
     "name": "stdout",
     "output_type": "stream",
     "text": [
      "2/2 [==============================] - 0s 21ms/step\n"
     ]
    },
    {
     "data": {
      "image/png": "[encoded data removed]",
      "text/plain": [
       "<Figure size 432x288 with 1 Axes>"
      ]
     },
     "metadata": {
      "needs_background": "light"
     },
     "output_type": "display_data"
    }
   ],
   "source": [
    "pred = googmodel.predict(X_test)\n",
    "plt.plot(y_test,label=\"original\")\n",
    "plt.plot(pred,label=\"predicted\")\n",
    "plt.legend()\n",
    "plt.title(\"ORIGINAL VS PREDICTED VALUES OF SCALED CLOSE PRICE\")\n",
    "plt.ylabel(\"SCALED CLOSE PRICE\")\n",
    "plt.show()"
   ]
  },
  {
   "cell_type": "code",
   "execution_count": 34,
   "id": "de88c3ca",
   "metadata": {},
   "outputs": [
    {
     "data": {
      "text/plain": [
       "0.15297103505450832"
      ]
     },
     "execution_count": 34,
     "metadata": {},
     "output_type": "execute_result"
    }
   ],
   "source": [
    "mean_squared_error(y_test,pred)"
   ]
  },
  {
   "cell_type": "code",
   "execution_count": 35,
   "id": "4cab22dc",
   "metadata": {},
   "outputs": [
    {
     "data": {
      "text/plain": [
       "31.634225397624956"
      ]
     },
     "execution_count": 35,
     "metadata": {},
     "output_type": "execute_result"
    }
   ],
   "source": [
    "def mean_absolute_percentage_error(y_true, y_pred):\n",
    "    return np.mean(np.abs((y_true - y_pred) / y_true)) * 100\n",
    "mean_absolute_percentage_error(y_test,pred)"
   ]
  },
  {
   "cell_type": "code",
   "execution_count": 48,
   "id": "8337dd4c",
   "metadata": {},
   "outputs": [],
   "source": [
    "#based on the experiments on the number of epochs 50 turned out to be the most optimum number of epochs for learning as the loss curve also decreases as the need there has been a little bit of overfitting but thats accounted for the training data"
   ]
  }
 ],
 "metadata": {
  "kernelspec": {
   "display_name": "Python 3 (ipykernel)",
   "language": "python",
   "name": "python3"
  },
  "language_info": {
   "codemirror_mode": {
    "name": "ipython",
    "version": 3
   },
   "file_extension": ".py",
   "mimetype": "text/x-python",
   "name": "python",
   "nbconvert_exporter": "python",
   "pygments_lexer": "ipython3",
   "version": "3.9.12"
  }
 },
 "nbformat": 4,
 "nbformat_minor": 5
}
